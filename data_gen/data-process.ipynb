{
 "cells": [
  {
   "cell_type": "markdown",
   "metadata": {},
   "source": [
    "Extract the downloaded data ``Skeleton.zip`` into ``data`` folder.\n",
    "\n",
    "Expected directory in  ``data`` folder.\n",
    "```\n",
    "└───Skeleton\n",
    "    ├───P000S00G10B10H10UC022000LC021000A000R0_08241716.txt\n",
    "    ├───P000S00G10B10H10UC022000LC021000A001R0_08241716.txt\n",
    "```\n",
    "\n",
    "Run the following scripts to split the files into the train and the test set respectively:\n",
    "```\n",
    "python split_v1.py \n",
    "python split_v2.py \n",
    "```\n",
    "\n",
    "Run the following script to preprocess the files:\n",
    "```\n",
    "python generate_data.py --data_path data/v1 \n",
    "python generate_data.py --data_path data/v2 \n",
    "```\n",
    "\n",
    "Expected directory in `data/v1`\n",
    "```\n",
    "└───data/v1\n",
    "    ├───train\n",
    "        ├───P000S00G10B10H10UC022000LC021000A000R0_08241716.txt\n",
    "        ├───P000S00G10B10H10UC022000LC021000A001R0_08241716.txt\n",
    "        └───...\n",
    "    ├───test\n",
    "        ├───P000S00G10B10H10UC022000LC021000A000R0_08241716.txt\n",
    "        ├───P000S00G10B10H10UC022000LC021000A001R0_08241716.txt\n",
    "        └───...\n",
    "    ├───train_label.pkl\n",
    "    ├───train_data.npy\n",
    "    ├───test_data.npy\n",
    "    └───test_label.pkl\n",
    "```\n",
    "\n",
    "`data/v1` has the similar structure\n"
   ]
  },
  {
   "cell_type": "code",
   "execution_count": 1,
   "metadata": {},
   "outputs": [],
   "source": [
    "!python split_v1.py \n",
    "!python split_v2.py "
   ]
  },
  {
   "cell_type": "code",
   "execution_count": 2,
   "metadata": {},
   "outputs": [
    {
     "name": "stdout",
     "output_type": "stream",
     "text": [
      "100%|████████████████████████████████████| 16724/16724 [01:59<00:00, 139.86it/s]\n",
      "pad the null frames with the previous frames\n",
      " 87%|██████████████████████████████▎    | 14489/16724 [00:07<00:01, 1985.16it/s]14690  has no skeleton\n",
      "100%|███████████████████████████████████| 16724/16724 [00:08<00:00, 1926.65it/s]\n",
      "sub the center joint #1 (spine joint in ntu and neck joint in kinetics)\n",
      "100%|██████████████████████████████████| 16724/16724 [00:01<00:00, 12957.32it/s]\n",
      "parallel the bone between hip(jpt 11)and spine(jpt 5) of the first person to the z axis\n",
      "100%|████████████████████████████████████| 16724/16724 [02:19<00:00, 119.69it/s]\n",
      "100%|██████████████████████████████████████| 6307/6307 [00:48<00:00, 131.28it/s]\n",
      "pad the null frames with the previous frames\n",
      " 42%|███████████████▌                     | 2659/6307 [00:01<00:02, 1525.84it/s]2724  has no skeleton\n",
      "100%|█████████████████████████████████████| 6307/6307 [00:04<00:00, 1446.03it/s]\n",
      "sub the center joint #1 (spine joint in ntu and neck joint in kinetics)\n",
      "100%|████████████████████████████████████| 6307/6307 [00:00<00:00, 13116.27it/s]\n",
      "parallel the bone between hip(jpt 11)and spine(jpt 5) of the first person to the z axis\n",
      "100%|██████████████████████████████████████| 6307/6307 [00:48<00:00, 129.54it/s]\n",
      "100%|████████████████████████████████████| 16432/16432 [02:00<00:00, 136.69it/s]\n",
      "pad the null frames with the previous frames\n",
      " 82%|████████████████████████████▋      | 13492/16432 [00:07<00:02, 1442.92it/s]13619  has no skeleton\n",
      "100%|███████████████████████████████████| 16432/16432 [00:09<00:00, 1738.89it/s]\n",
      "sub the center joint #1 (spine joint in ntu and neck joint in kinetics)\n",
      "100%|██████████████████████████████████| 16432/16432 [00:01<00:00, 13128.27it/s]\n",
      "parallel the bone between hip(jpt 11)and spine(jpt 5) of the first person to the z axis\n",
      "100%|████████████████████████████████████| 16432/16432 [02:12<00:00, 123.75it/s]\n",
      "100%|██████████████████████████████████████| 6599/6599 [00:48<00:00, 135.75it/s]\n",
      "pad the null frames with the previous frames\n",
      " 78%|████████████████████████████▊        | 5134/6599 [00:02<00:00, 1982.28it/s]5222  has no skeleton\n",
      "100%|█████████████████████████████████████| 6599/6599 [00:03<00:00, 2051.87it/s]\n",
      "sub the center joint #1 (spine joint in ntu and neck joint in kinetics)\n",
      "100%|████████████████████████████████████| 6599/6599 [00:00<00:00, 13255.99it/s]\n",
      "parallel the bone between hip(jpt 11)and spine(jpt 5) of the first person to the z axis\n",
      "100%|██████████████████████████████████████| 6599/6599 [00:55<00:00, 118.86it/s]\n"
     ]
    }
   ],
   "source": [
    "!python generate_data.py --data_path data/v1 \n",
    "!python generate_data.py --data_path data/v2 "
   ]
  },
  {
   "cell_type": "markdown",
   "metadata": {},
   "source": [
    "test Generated data"
   ]
  },
  {
   "cell_type": "code",
   "execution_count": 3,
   "metadata": {},
   "outputs": [
    {
     "name": "stdout",
     "output_type": "stream",
     "text": [
      "data/v1/train/P000S00G10B10H10UC022000LC021000A000R0_08241716.txt\n",
      "0\n",
      "(16724, 3, 300, 17, 2)\n",
      "data/v1/test/P001S00G20B40H20UC072000LC021000A000R0_08241838.txt\n",
      "0\n",
      "(6307, 3, 300, 17, 2)\n"
     ]
    }
   ],
   "source": [
    "import pickle\n",
    "import numpy as np\n",
    "\n",
    "path = 'data/v1/train_label.pkl'\n",
    "with open(path, 'rb') as f:\n",
    "    data = pickle.load(f)\n",
    "    print(data[0][0])\n",
    "    print(data[1][0])\n",
    "\n",
    "\n",
    "path = 'data/v1/train_data.npy'\n",
    "x = np.load(path)\n",
    "print(x.shape)\n",
    "\n",
    "\n",
    "path = 'data/v1/test_label.pkl'\n",
    "with open(path, 'rb') as f:\n",
    "    data = pickle.load(f)\n",
    "    print(data[0][0])\n",
    "    print(data[1][0])\n",
    "\n",
    "\n",
    "path = 'data/v1/test_data.npy'\n",
    "x = np.load(path)\n",
    "print(x.shape)"
   ]
  },
  {
   "cell_type": "code",
   "execution_count": 4,
   "metadata": {},
   "outputs": [
    {
     "name": "stdout",
     "output_type": "stream",
     "text": [
      "v1 test\n",
      "100%|███████████████████████████████████████████| 18/18 [00:02<00:00,  6.37it/s]\n",
      "v1 train\n",
      "100%|███████████████████████████████████████████| 18/18 [00:23<00:00,  1.32s/it]\n",
      "v2 test\n",
      "100%|███████████████████████████████████████████| 18/18 [00:12<00:00,  1.49it/s]\n",
      "v2 train\n",
      "100%|███████████████████████████████████████████| 18/18 [00:23<00:00,  1.32s/it]\n"
     ]
    }
   ],
   "source": [
    "!python gen_bone_data.py"
   ]
  },
  {
   "cell_type": "code",
   "execution_count": 6,
   "metadata": {},
   "outputs": [
    {
     "name": "stdout",
     "output_type": "stream",
     "text": [
      "data/v1/train/P000S00G10B10H10UC022000LC021000A000R0_08241716.txt\n",
      "0\n",
      "(16724, 3, 300, 17, 2)\n",
      "data/v1/test/P001S00G20B40H20UC072000LC021000A000R0_08241838.txt\n",
      "0\n",
      "(6307, 3, 300, 17, 2)\n"
     ]
    }
   ],
   "source": [
    "import pickle\n",
    "import numpy as np\n",
    "\n",
    "path = 'data/v1/train_label.pkl'\n",
    "with open(path, 'rb') as f:\n",
    "    data = pickle.load(f)\n",
    "    print(data[0][0])\n",
    "    print(data[1][0])\n",
    "\n",
    "\n",
    "path = 'data/v1/train_data_bone.npy'\n",
    "x = np.load(path)\n",
    "print(x.shape)\n",
    "\n",
    "\n",
    "path = 'data/v1/test_label.pkl'\n",
    "with open(path, 'rb') as f:\n",
    "    data = pickle.load(f)\n",
    "    print(data[0][0])\n",
    "    print(data[1][0])\n",
    "\n",
    "\n",
    "path = 'data/v1/test_data_bone.npy'\n",
    "x = np.load(path)\n",
    "print(x.shape)"
   ]
  },
  {
   "cell_type": "code",
   "execution_count": null,
   "metadata": {},
   "outputs": [],
   "source": []
  }
 ],
 "metadata": {
  "kernelspec": {
   "display_name": "mmvrac",
   "language": "python",
   "name": "python3"
  },
  "language_info": {
   "codemirror_mode": {
    "name": "ipython",
    "version": 3
   },
   "file_extension": ".py",
   "mimetype": "text/x-python",
   "name": "python",
   "nbconvert_exporter": "python",
   "pygments_lexer": "ipython3",
   "version": "3.12.2"
  }
 },
 "nbformat": 4,
 "nbformat_minor": 2
}
