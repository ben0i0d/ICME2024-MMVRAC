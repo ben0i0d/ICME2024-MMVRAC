{
 "cells": [
  {
   "cell_type": "markdown",
   "metadata": {},
   "source": [
    "test"
   ]
  },
  {
   "cell_type": "markdown",
   "metadata": {},
   "source": [
    "v1"
   ]
  },
  {
   "cell_type": "code",
   "execution_count": 1,
   "metadata": {},
   "outputs": [
    {
     "name": "stdout",
     "output_type": "stream",
     "text": [
      "100%|████████████████████████████████████| 6307/6307 [00:00<00:00, 26334.86it/s]\n",
      "Top1 Acc: 47.4394%\n",
      "Top5 Acc: 66.9891%\n"
     ]
    }
   ],
   "source": [
    "!python ensemble.py --dataset uav --joint-dir work_dir/uav/test_joint --bone-dir work_dir/uav/test_jm --joint-t-dir work_dir/uav/k1 --bone-t-dir work_dir/uav/k4 --k-t-dir work_dir/uav/ctrgcn_bone_t --indrnn-t-dir work_dir/uav/shift1 "
   ]
  },
  {
   "cell_type": "markdown",
   "metadata": {},
   "source": [
    "v2"
   ]
  },
  {
   "cell_type": "code",
   "execution_count": 2,
   "metadata": {},
   "outputs": [
    {
     "name": "stdout",
     "output_type": "stream",
     "text": [
      "100%|████████████████████████████████████| 6599/6599 [00:00<00:00, 29767.86it/s]\n",
      "Top1 Acc: 74.2840%\n",
      "Top5 Acc: 93.7566%\n"
     ]
    }
   ],
   "source": [
    "!python ensemble2.py --dataset uav --joint-dir work_dir/uav2/k --bone-dir work_dir/uav2/j --joint-t-dir work_dir/uav2/k1 --bone-t-dir work_dir/uav2/k4 --k-t-dir work_dir/uav2/bone --indrnn-t work_dir/uav2/shift1 --indrnn-b work_dir/uav2/shift2"
   ]
  },
  {
   "cell_type": "code",
   "execution_count": null,
   "metadata": {},
   "outputs": [],
   "source": []
  }
 ],
 "metadata": {
  "kernelspec": {
   "display_name": "mmvrac",
   "language": "python",
   "name": "python3"
  },
  "language_info": {
   "codemirror_mode": {
    "name": "ipython",
    "version": 3
   },
   "file_extension": ".py",
   "mimetype": "text/x-python",
   "name": "python",
   "nbconvert_exporter": "python",
   "pygments_lexer": "ipython3",
   "version": "3.10.12"
  }
 },
 "nbformat": 4,
 "nbformat_minor": 2
}
